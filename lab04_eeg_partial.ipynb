{
 "cells": [
  {
   "cell_type": "markdown",
   "metadata": {
    "id": "eqfpXxd-5wE7"
   },
   "source": [
    "# Lab:  Source Localization for EEG\n",
    "\n",
    "EEG or [Electroencephalography](https://en.wikipedia.org/wiki/Electroencephalography) is a powerful tool for neuroscientists in understanding brain activity.  In EEG, a patient wears a headset with electrodes that measures voltages at a number of points on the scalp.  These voltages arise from ionic currents within the brain.  A common *inverse problem* is to estimate the which parts of the brain caused the measured response.  Source localization is useful in understanding which parts of the brain are involved in certain tasks.  A key challenge in this inverse problem is that the number of unknowns (possible locations in the brain) is much larger than the number of measurements.  In this lab, we will use LASSO regression on a real EEG dataset to overcome this problem and determine the brain region that is active under an auditory stimulus.\n",
    "\n",
    "In addition to learning the concepts in the demo for this unit, you will learn to:\n",
    "* Represent responses of multi-channel time-series data, such as EEG, using linear models\n",
    "* Perform LASSO and Ridge regression\n",
    "* Select the regularization level via cross-validation\n",
    "* Visually compare the sparsity between the solutions\n",
    "\n",
    "We first download some standard packages."
   ]
  },
  {
   "cell_type": "code",
   "execution_count": 2,
   "metadata": {
    "id": "EYN1V7hf5wFB"
   },
   "outputs": [],
   "source": [
    "import numpy as np\n",
    "import matplotlib.pyplot as plt\n",
    "\n",
    "from sklearn.linear_model import Lasso, Ridge, LinearRegression\n",
    "from sklearn.metrics import r2_score\n",
    "\n",
    "from sklearn.preprocessing import StandardScaler\n",
    "\n",
    "from sklearn.model_selection import cross_val_score, GridSearchCV, KFold"
   ]
  },
  {
   "cell_type": "markdown",
   "metadata": {
    "id": "fUJEZH1A5wFC"
   },
   "source": [
    "## Load the Data\n",
    "\n",
    "The data in this lab is taken from one of the sample datasets in the [MNE website](https://martinos.org/mne/stable/index.html). The sample data is a recording from one subject who experienced some auditory stimulus on the left ear.    \n",
    "\n",
    "The raw data is very large (`1.5G`) and also requires that you install the `mne` python package. To make this lab easier, I have extracted and processed a small section of the data.  The following commands will get the data from a `pickle` file `eeg_dat.p` stored remotely and save them in matrices `Xtr` and `Ytr`."
   ]
  },
  {
   "cell_type": "code",
   "execution_count": 3,
   "metadata": {
    "id": "suTG8NHx5wFD"
   },
   "outputs": [],
   "source": [
    "import cloudpickle\n",
    "from urllib.request import urlopen\n",
    "with urlopen(\"http://www.ece.ohio-state.edu/~schniter/nonpublic/eeg_dat.p\") as fp:\n",
    "    [Xtr,Ytr] = cloudpickle.load(fp)"
   ]
  },
  {
   "cell_type": "markdown",
   "metadata": {
    "id": "P0BzXAyU5wFD"
   },
   "source": [
    "To understand the data, there are three key variables:\n",
    "* `nt`    = number of time steps that we measure data\n",
    "* `nchan` = number of channels (i.e. electrodes) measured in each time step\n",
    "* `ncur`  = number of currents in the brain that we want to estimate.\n",
    "\n",
    "Current is measured at each brain region (called a *voxel*) in three separate directions: `x`, `y`, and `z`.  So,\n",
    "\n",
    "    nvoxels = ncur / 3\n",
    "    \n",
    "The components of the `Xtr` and `Ytr` matrices are:\n",
    "*  `Xtr[i,j]` = sensitivity of channel `i` to current `j`\n",
    "*  `Ytr[i,k]` = electric field measurement on channel `i` at time `k`.\n",
    "\n",
    "\n",
    "Using `Xtr.shape` and `Ytr.shape` compute and print `nt`, `nchan`, `ncur` and `nvoxels`."
   ]
  },
  {
   "cell_type": "code",
   "execution_count": 60,
   "metadata": {
    "colab": {
     "base_uri": "https://localhost:8080/"
    },
    "id": "95SDDYkt5wFD",
    "outputId": "e45034c2-9aad-49e0-d333-5aafec107866"
   },
   "outputs": [
    {
     "name": "stdout",
     "output_type": "stream",
     "text": [
      "85\n",
      "22494\n",
      "305\n",
      "7498.0\n"
     ]
    }
   ],
   "source": [
    "nt = Ytr.shape[1]\n",
    "ncur = Xtr.shape[1]\n",
    "nchan = Xtr.shape[0]\n",
    "nvoxels = ncur / 3\n",
    "print(nt)\n",
    "print(ncur)\n",
    "print(nchan)\n",
    "print(nvoxels)"
   ]
  },
  {
   "cell_type": "markdown",
   "metadata": {
    "id": "apQDgoip5wFE"
   },
   "source": [
    "## The need for Regularization\n",
    "\n",
    "Our goal is to estimate the currents `W` in the brain from the measurements `Y`.  We will use the linear model\n",
    "\n",
    "    Y[i,k]  ~= sum_j X[i,j]*W[j,k]+ b[k]\n",
    "\n",
    "where `W[j,k]` is the value of current `j` at time `k` and where `b[k]` is the bias at time `k`.  We can solve for the current matrix `W` via linear regression.  \n",
    "\n",
    "Note that this model differs slightly from the linear regression model that we considered in most of the lectures, in the following sense. At sample index `i`, the target is a *vector* `Y[i,:]` (not a scalar `y[i]`). Thus, the regresson coefficients `W[j,:]` must also be *vectors* (rather than a scalars `w[j]`) and the bias `b[:]` must also be a *vector* (rather than a scalar `b`).  In other words, if we considered only a *single* value of `k` in the above model, then we would get a scalar-target model that takes the form `y[i] = sum_j X[i,j]*w[j] + b`.  But in this lab, we have several values of `k`.\n",
    "\n",
    "However, there is a major problem:\n",
    "*  There are `nt` times `ncur` unknowns in `W`\n",
    "*  There are `nt` time `nchan` measurements in `Y`\n",
    "*  `ncur` is much larger than `nchan`.\n",
    "\n",
    "In other words, we have\n",
    "\n",
    "    number of unknowns >> number of measurements\n",
    "    \n",
    "In this case, the least-squares solution is not unique (and the \"A-transpose-A\" matrix we'd like to invert when computing the least-squares solution is not invertible).  We can remedy this problem using regularization.  We first try Ridge regression, and later LASSO."
   ]
  },
  {
   "cell_type": "markdown",
   "metadata": {
    "id": "7PWe4e3W5wFE"
   },
   "source": [
    "## Ridge Regression\n",
    "\n",
    "First, standardize the features using the `StandardScaler` object from `sklearn`."
   ]
  },
  {
   "cell_type": "code",
   "execution_count": 5,
   "metadata": {
    "colab": {
     "base_uri": "https://localhost:8080/"
    },
    "id": "HgM5Y2oH5wFE",
    "outputId": "cd3a8ee3-77f1-4303-a8f7-82a66444f519"
   },
   "outputs": [
    {
     "data": {
      "text/plain": [
       "array([[ 0.06358015,  0.04408042,  0.05269725, ..., -0.07715992,\n",
       "         0.06676001,  0.03367805],\n",
       "       [ 0.06358015,  0.04408042,  0.05269725, ..., -0.07715992,\n",
       "         0.06676001,  0.03367805],\n",
       "       [ 0.06358015,  0.04408042,  0.05269725, ..., -0.07715992,\n",
       "         0.06676001,  0.03367805],\n",
       "       ...,\n",
       "       [ 0.4649056 ,  1.27461003,  1.43872613, ...,  0.98881461,\n",
       "        -1.58289026,  0.9530938 ],\n",
       "       [ 0.3767109 ,  0.8415013 ,  0.80552232, ...,  0.6819059 ,\n",
       "         0.55919921, -2.87213494],\n",
       "       [ 1.12385889, -0.96101862, -0.72830508, ..., -2.59642762,\n",
       "         2.59833928, -0.5620845 ]])"
      ]
     },
     "execution_count": 5,
     "metadata": {},
     "output_type": "execute_result"
    }
   ],
   "source": [
    "scaler = StandardScaler()\n",
    "Xtr = scaler.fit_transform(Xtr)\n",
    "Ytr = scaler.fit_transform(Ytr)\n",
    "Xtr"
   ]
  },
  {
   "cell_type": "markdown",
   "metadata": {
    "id": "JIfqu0f_5wFE"
   },
   "source": [
    "Next, train a Ridge regression model using a regularization weight of `alpha=1` using the `Ridge` object from `sklearn`.\n",
    "Then compute the `R^2` value on the training data using the `r2_score` function and print it out.\n",
    "It should be relatively large."
   ]
  },
  {
   "cell_type": "code",
   "execution_count": 6,
   "metadata": {
    "colab": {
     "base_uri": "https://localhost:8080/"
    },
    "id": "_XD-gAz45wFF",
    "outputId": "62f69ac7-7543-4c11-e036-35033a0d56ed"
   },
   "outputs": [
    {
     "data": {
      "text/plain": [
       "0.9366168041603823"
      ]
     },
     "execution_count": 6,
     "metadata": {},
     "output_type": "execute_result"
    }
   ],
   "source": [
    "ridge = Ridge(alpha=1, fit_intercept = False)\n",
    "ridge.fit(Xtr, Ytr)\n",
    "Ypred = ridge.predict(Xtr)\n",
    "rsq_tr = r2_score(Ytr, Ypred)\n",
    "rsq_tr"
   ]
  },
  {
   "cell_type": "markdown",
   "metadata": {
    "id": "ts43Wnqt5wFF"
   },
   "source": [
    "Now use `cross_val_score` to compute the `R^2` value using shuffled 5-fold cross-validation.  Use a fixed random seed for consistency across experiments.\n",
    "You should see that the cross-validated `R^2` value is very low.\n",
    "Remember that cross-validation aims to estimate the performance of a model on unseen test data.\n",
    "The fact that the training `R^2` is high and the test `R^2` is low means that this model is over-fitting."
   ]
  },
  {
   "cell_type": "code",
   "execution_count": 13,
   "metadata": {
    "id": "tm4KDKRt5wFF"
   },
   "outputs": [
    {
     "data": {
      "text/plain": [
       "array([-1.59801568, -1.80733354, -1.66313542, -1.51353345, -2.48185095])"
      ]
     },
     "execution_count": 13,
     "metadata": {},
     "output_type": "execute_result"
    }
   ],
   "source": [
    "kf = KFold(n_splits=5,shuffle=True,random_state=0)\n",
    "rsq_cv = cross_val_score(ridge, Xtr, Ytr, cv=kf, scoring='r2')\n",
    "rsq_cv"
   ]
  },
  {
   "cell_type": "markdown",
   "metadata": {
    "id": "B6W5sECj5wFF"
   },
   "source": [
    "Next, try to see if you can get a better `R^2` score using a different value of `alpha`.  \n",
    "In particular, use 5-fold cross-validation to find the largest `R^2` for 20 `alpha` values logarithmically spaced from `10^3` to `10^6` (use `np.logspace()`), as well as the maximizing value of `alpha`.\n",
    "Use `GridSearchCV` for this task with the appropriate scoring choice."
   ]
  },
  {
   "cell_type": "code",
   "execution_count": 64,
   "metadata": {
    "id": "WXPbe-UO5wFG"
   },
   "outputs": [
    {
     "name": "stdout",
     "output_type": "stream",
     "text": [
      "0.26961392475149487\n",
      "[8858.6679041]\n"
     ]
    }
   ],
   "source": [
    "alphas = np.logspace(3, 6, 20)\n",
    "alphas_grid = {'alpha': alphas}\n",
    "_ridge = Ridge(fit_intercept = False)\n",
    "ridge_cv = GridSearchCV(_ridge, alphas_grid, cv = kf, scoring = 'r2')\n",
    "ridge_cv.fit(Xtr,Ytr)\n",
    "rsq_cv = ridge_cv.cv_results_['mean_test_score']\n",
    "rsq_cv_max = np.max(rsq_cv)\n",
    "alphas_max = alphas[np.where(rsq_cv == rsq_cv_max)]\n",
    "print(rsq_cv_max)\n",
    "print(alphas_max)"
   ]
  },
  {
   "cell_type": "markdown",
   "metadata": {
    "id": "3J96PVma5wFG"
   },
   "source": [
    "Plot the cross-validation `R^2` vs. `alpha` and mark the maximum `R^2` and maximizing `alpha`.  You should see that the maximum `R^2` is much better than with `alpha=1`."
   ]
  },
  {
   "cell_type": "code",
   "execution_count": 65,
   "metadata": {
    "id": "gwjBNCUh5wFG"
   },
   "outputs": [
    {
     "data": {
      "image/png": "[encoded data removed]",
      "text/plain": [
       "<Figure size 640x480 with 1 Axes>"
      ]
     },
     "metadata": {},
     "output_type": "display_data"
    }
   ],
   "source": [
    "plt.plot(alphas, rsq_cv, 'k', label = 'r2')\n",
    "plt.plot(alphas_max, rsq_cv_max, 'r.',linewidth = 10, label = 'r2_max')\n",
    "plt.legend()\n",
    "plt.xlabel('alpha')\n",
    "plt.ylabel('r2')\n",
    "plt.show()"
   ]
  },
  {
   "cell_type": "markdown",
   "metadata": {
    "id": "8Mgpuqq55wFG"
   },
   "source": [
    "Now, let's take a closer look at the solution.\n",
    "* Extract the matrix `W` of optimally tuned ridge coefficients from the output of GridSearchCV.  These are stored in `best_estimator_.coef_` in transposed form, so apply a transpose to get `W` as we defined it above.\n",
    "* For each current `j` compute `Wrms[j] =  sqrt( sum_k W[j,k]**2 )`, which is the root-mean-squared value across time.\n",
    "* Finally, plot the `Wrms` vector with `j` on the horizontal axis.\n",
    "\n",
    "You will see that the RMS current vector `Wrms` is not sparse.  This means that the solution found by Ridge regression allows non-zero currents in all locations."
   ]
  },
  {
   "cell_type": "code",
   "execution_count": 59,
   "metadata": {
    "id": "OpBkG0NV5wFG"
   },
   "outputs": [
    {
     "name": "stdout",
     "output_type": "stream",
     "text": [
      "[[ 6.64760134e-04  7.18495861e-04  7.45991513e-04 ...  6.21387161e-04\n",
      "   4.71843347e-04  3.10981973e-04]\n",
      " [-1.38488468e-03 -1.44160980e-03 -1.43883587e-03 ... -1.86964404e-04\n",
      "  -9.78410770e-05 -1.77999320e-05]\n",
      " [-1.29351782e-03 -1.33865025e-03 -1.33101494e-03 ... -1.54208381e-04\n",
      "  -8.83530089e-05 -3.18102516e-05]\n",
      " ...\n",
      " [-4.91117300e-05 -5.15569441e-05 -5.25344247e-05 ...  1.08287515e-04\n",
      "   1.50487302e-04  1.94738087e-04]\n",
      " [ 1.41166580e-04  1.37527098e-04  1.33893280e-04 ... -5.61445828e-05\n",
      "  -8.47898485e-05 -1.07936328e-04]\n",
      " [-1.63903454e-05 -2.32581914e-05 -4.10420233e-05 ... -1.42502958e-04\n",
      "  -1.71131799e-04 -2.10625244e-04]]\n",
      "[0.00409033 0.00378686 0.00352493 ... 0.00095413 0.00130694 0.00149175]\n"
     ]
    },
    {
     "data": {
      "text/plain": [
       "<matplotlib.collections.PathCollection at 0x1b0057e44d0>"
      ]
     },
     "execution_count": 59,
     "metadata": {},
     "output_type": "execute_result"
    },
    {
     "data": {
      "image/png": "[encoded data removed]",
      "text/plain": [
       "<Figure size 640x480 with 1 Axes>"
      ]
     },
     "metadata": {},
     "output_type": "display_data"
    }
   ],
   "source": [
    "W_ridge = np.transpose(ridge_cv.best_estimator_.coef_)\n",
    "W_ridge_rms = np.zeros((W_ridge.shape[0]))\n",
    "for j in range(W_ridge.shape[0]):\n",
    "    W_ridge_rms[j] = np.sqrt(np.sum(W_ridge[j,:] ** 2))\n",
    "print(W_ridge)\n",
    "print(W_ridge_rms)\n",
    "plt.plot(range(W_ridge.shape[0]), W_ridge_rms)"
   ]
  },
  {
   "cell_type": "markdown",
   "metadata": {
    "id": "MZ4_7atD5wFH"
   },
   "source": [
    "## LASSO Regression\n",
    "\n",
    "We can improve the estimate by setting a large fraction of the coefficients to zero.  Biologically, we expect that only a limited number of brain regions should be involved in the response to a particular stimuli.  As a result, we expect that the current matrix `W[j,k]` should be zero-valued for most locations `j` at each time `k`.  We can find such a solution using LASSO with an appropriate regularization strength `alpha`.\n",
    "\n",
    "First, fit a LASSO model to the training data with `alpha=1e-2`.  In sklearn's `Lasso`, set `max_iter=100`, `tol=0.01`, and `warm_start=True` to speed things up.  The LASSO solver is much slower than the Ridge solver, so this may take a minute."
   ]
  },
  {
   "cell_type": "code",
   "execution_count": 66,
   "metadata": {
    "id": "bJbU5uGa5wFH"
   },
   "outputs": [
    {
     "data": {
      "text/html": [
       "<style>#sk-container-id-2 {color: black;}#sk-container-id-2 pre{padding: 0;}#sk-container-id-2 div.sk-toggleable {background-color: white;}#sk-container-id-2 label.sk-toggleable__label {cursor: pointer;display: block;width: 100%;margin-bottom: 0;padding: 0.3em;box-sizing: border-box;text-align: center;}#sk-container-id-2 label.sk-toggleable__label-arrow:before {content: \"▸\";float: left;margin-right: 0.25em;color: #696969;}#sk-container-id-2 label.sk-toggleable__label-arrow:hover:before {color: black;}#sk-container-id-2 div.sk-estimator:hover label.sk-toggleable__label-arrow:before {color: black;}#sk-container-id-2 div.sk-toggleable__content {max-height: 0;max-width: 0;overflow: hidden;text-align: left;background-color: #f0f8ff;}#sk-container-id-2 div.sk-toggleable__content pre {margin: 0.2em;color: black;border-radius: 0.25em;background-color: #f0f8ff;}#sk-container-id-2 input.sk-toggleable__control:checked~div.sk-toggleable__content {max-height: 200px;max-width: 100%;overflow: auto;}#sk-container-id-2 input.sk-toggleable__control:checked~label.sk-toggleable__label-arrow:before {content: \"▾\";}#sk-container-id-2 div.sk-estimator input.sk-toggleable__control:checked~label.sk-toggleable__label {background-color: #d4ebff;}#sk-container-id-2 div.sk-label input.sk-toggleable__control:checked~label.sk-toggleable__label {background-color: #d4ebff;}#sk-container-id-2 input.sk-hidden--visually {border: 0;clip: rect(1px 1px 1px 1px);clip: rect(1px, 1px, 1px, 1px);height: 1px;margin: -1px;overflow: hidden;padding: 0;position: absolute;width: 1px;}#sk-container-id-2 div.sk-estimator {font-family: monospace;background-color: #f0f8ff;border: 1px dotted black;border-radius: 0.25em;box-sizing: border-box;margin-bottom: 0.5em;}#sk-container-id-2 div.sk-estimator:hover {background-color: #d4ebff;}#sk-container-id-2 div.sk-parallel-item::after {content: \"\";width: 100%;border-bottom: 1px solid gray;flex-grow: 1;}#sk-container-id-2 div.sk-label:hover label.sk-toggleable__label {background-color: #d4ebff;}#sk-container-id-2 div.sk-serial::before {content: \"\";position: absolute;border-left: 1px solid gray;box-sizing: border-box;top: 0;bottom: 0;left: 50%;z-index: 0;}#sk-container-id-2 div.sk-serial {display: flex;flex-direction: column;align-items: center;background-color: white;padding-right: 0.2em;padding-left: 0.2em;position: relative;}#sk-container-id-2 div.sk-item {position: relative;z-index: 1;}#sk-container-id-2 div.sk-parallel {display: flex;align-items: stretch;justify-content: center;background-color: white;position: relative;}#sk-container-id-2 div.sk-item::before, #sk-container-id-2 div.sk-parallel-item::before {content: \"\";position: absolute;border-left: 1px solid gray;box-sizing: border-box;top: 0;bottom: 0;left: 50%;z-index: -1;}#sk-container-id-2 div.sk-parallel-item {display: flex;flex-direction: column;z-index: 1;position: relative;background-color: white;}#sk-container-id-2 div.sk-parallel-item:first-child::after {align-self: flex-end;width: 50%;}#sk-container-id-2 div.sk-parallel-item:last-child::after {align-self: flex-start;width: 50%;}#sk-container-id-2 div.sk-parallel-item:only-child::after {width: 0;}#sk-container-id-2 div.sk-dashed-wrapped {border: 1px dashed gray;margin: 0 0.4em 0.5em 0.4em;box-sizing: border-box;padding-bottom: 0.4em;background-color: white;}#sk-container-id-2 div.sk-label label {font-family: monospace;font-weight: bold;display: inline-block;line-height: 1.2em;}#sk-container-id-2 div.sk-label-container {text-align: center;}#sk-container-id-2 div.sk-container {/* jupyter's `normalize.less` sets `[hidden] { display: none; }` but bootstrap.min.css set `[hidden] { display: none !important; }` so we also need the `!important` here to be able to override the default hidden behavior on the sphinx rendered scikit-learn.org. See: https://github.com/scikit-learn/scikit-learn/issues/21755 */display: inline-block !important;position: relative;}#sk-container-id-2 div.sk-text-repr-fallback {display: none;}</style><div id=\"sk-container-id-2\" class=\"sk-top-container\"><div class=\"sk-text-repr-fallback\"><pre>Lasso(alpha=0.01, fit_intercept=False, max_iter=100, tol=0.01, warm_start=True)</pre><b>In a Jupyter environment, please rerun this cell to show the HTML representation or trust the notebook. <br />On GitHub, the HTML representation is unable to render, please try loading this page with nbviewer.org.</b></div><div class=\"sk-container\" hidden><div class=\"sk-item\"><div class=\"sk-estimator sk-toggleable\"><input class=\"sk-toggleable__control sk-hidden--visually\" id=\"sk-estimator-id-2\" type=\"checkbox\" checked><label for=\"sk-estimator-id-2\" class=\"sk-toggleable__label sk-toggleable__label-arrow\">Lasso</label><div class=\"sk-toggleable__content\"><pre>Lasso(alpha=0.01, fit_intercept=False, max_iter=100, tol=0.01, warm_start=True)</pre></div></div></div></div></div>"
      ],
      "text/plain": [
       "Lasso(alpha=0.01, fit_intercept=False, max_iter=100, tol=0.01, warm_start=True)"
      ]
     },
     "execution_count": 66,
     "metadata": {},
     "output_type": "execute_result"
    }
   ],
   "source": [
    "lasso = Lasso(alpha=1e-2, fit_intercept = False, max_iter=100, tol=0.01, warm_start=True)\n",
    "lasso.fit(Xtr, Ytr)"
   ]
  },
  {
   "cell_type": "markdown",
   "metadata": {
    "id": "927btfjX5wFH"
   },
   "source": [
    "Next, estimate the `R^2` value using the same 5-fold cross-validation object you created earlier using `cross_val_score`.  Be patient as this may take a few minutes.  You should get a better `R^2` than you did with Ridge regression.  "
   ]
  },
  {
   "cell_type": "code",
   "execution_count": 67,
   "metadata": {
    "id": "ctZab57D5wFH"
   },
   "outputs": [
    {
     "data": {
      "text/plain": [
       "array([0.10783188, 0.16259897, 0.2427999 , 0.27511929, 0.025458  ])"
      ]
     },
     "execution_count": 67,
     "metadata": {},
     "output_type": "execute_result"
    }
   ],
   "source": [
    "rsq_cv = cross_val_score(lasso, Xtr, Ytr, cv=kf, scoring='r2')\n",
    "rsq_cv"
   ]
  },
  {
   "cell_type": "markdown",
   "metadata": {
    "id": "Vk4aOe0s5wFH"
   },
   "source": [
    "Still, the value `alpha=1e-2` was only a guess.  We should do even better with a properly tuned `alpha`."
   ]
  },
  {
   "cell_type": "markdown",
   "metadata": {
    "id": "u_TNJJfa5wFH"
   },
   "source": [
    "##  LASSO Feature Selection + LS Linear Regression\n",
    "\n",
    "We know that LASSO does two things: it sets a subset of coefficients to zero and it shrinks\n",
    "the remaining coefficients towards zero.\n",
    "Since this coefficient shrinkage is often problematic, it is typical to use LASSO only for feature selection.\n",
    "Once features are selected by LASSO, another regression method is applied to those features, such as LS-based linear regression.\n",
    "We'll call this method \"LASSO+LS\".\n",
    "It is also known as \"debiased LASSO\".\n",
    "\n",
    "Your next task is use a grid search to tune `alpha` for LASSO+LS.\n",
    "For consistency, use the same shuffled 5-fold cross-validation object `kf` that you created earlier.\n",
    "Make a log-spaced grid with 5 values for `alpha`.\n",
    "(It's up to you to choose the values.)\n",
    "Then make a `for` loop over the grid values, doing the following for each `alpha`:\n",
    "* Fit a LASSO model to the entire training data and identify the feature subset where the LASSO coefficients are non-zero.\n",
    "* Print out `alpha` and the number of selected features\n",
    "* Using those features, fit a least-squares model and evaluate the R^2 value using `cross_val_score`.\n",
    "When you have done this for all grid points, plot the CV-estimated R^2 versus `alpha` and mark the maximum R^2 and maximizing value of `alpha`.\n",
    "\n",
    "Do the above several times for different choices of `alpha` grid until you find a grid where R^2 peaks in the middle and with fine enough grid resolution to identify a good R^2 value.\n",
    "If you see lasso selecting zero features for some `alpha`, you know that value of `alpha` is too high."
   ]
  },
  {
   "cell_type": "code",
   "execution_count": 76,
   "metadata": {},
   "outputs": [
    {
     "name": "stdout",
     "output_type": "stream",
     "text": [
      "(305, 22494)\n",
      "(305, 85)\n"
     ]
    }
   ],
   "source": [
    "print(Xtr.shape)\n",
    "print(Ytr.shape)"
   ]
  },
  {
   "cell_type": "code",
   "execution_count": 92,
   "metadata": {
    "id": "65oq7Lus5wFI"
   },
   "outputs": [
    {
     "name": "stdout",
     "output_type": "stream",
     "text": [
      "0.01 2438 [[1 1 0 ... 0 0 0]\n",
      " [1 1 0 ... 0 0 0]\n",
      " [1 1 0 ... 0 0 0]\n",
      " ...\n",
      " [1 1 0 ... 0 0 0]\n",
      " [1 1 0 ... 0 0 0]\n",
      " [1 1 0 ... 0 0 0]]\n"
     ]
    },
    {
     "ename": "MemoryError",
     "evalue": "Unable to allocate 1.12 TiB for an array with shape (305, 22494, 22494) and data type float64",
     "output_type": "error",
     "traceback": [
      "\u001b[1;31m---------------------------------------------------------------------------\u001b[0m",
      "\u001b[1;31mMemoryError\u001b[0m                               Traceback (most recent call last)",
      "Cell \u001b[1;32mIn[92], line 14\u001b[0m\n\u001b[0;32m     12\u001b[0m     subset \u001b[38;5;241m=\u001b[39m np\u001b[38;5;241m.\u001b[39mwhere(nonzero)[\u001b[38;5;241m0\u001b[39m]\n\u001b[0;32m     13\u001b[0m     \u001b[38;5;28mprint\u001b[39m(a, subset\u001b[38;5;241m.\u001b[39mshape[\u001b[38;5;241m0\u001b[39m], _nonzero)\n\u001b[1;32m---> 14\u001b[0m     rsq_cv[i] \u001b[38;5;241m=\u001b[39m cross_val_score(linreg, Xtr[_nonzero], Ytr, cv\u001b[38;5;241m=\u001b[39mkf, scoring\u001b[38;5;241m=\u001b[39m\u001b[38;5;124m'\u001b[39m\u001b[38;5;124mr2\u001b[39m\u001b[38;5;124m'\u001b[39m)\n\u001b[0;32m     15\u001b[0m \u001b[38;5;28mprint\u001b[39m(rsq_cv)\n\u001b[0;32m     16\u001b[0m rsq_cv_max \u001b[38;5;241m=\u001b[39m np\u001b[38;5;241m.\u001b[39mmax(rsq_cv)\n",
      "\u001b[1;31mMemoryError\u001b[0m: Unable to allocate 1.12 TiB for an array with shape (305, 22494, 22494) and data type float64"
     ]
    }
   ],
   "source": [
    "alphas_lasso = np.logspace(-2, 0, 5)\n",
    "rsq_cv = np.zeros((5))\n",
    "linreg = LinearRegression(fit_intercept=False)\n",
    "for i,a in enumerate(alphas_lasso):\n",
    "    _lasso = Lasso(alpha = a, fit_intercept = False, max_iter=100, tol=0.01, warm_start=True)\n",
    "    _lasso.fit(Xtr,Ytr)\n",
    "    nonzero = np.any(np.abs(_lasso.coef_)>1e-5, axis=0)\n",
    "    _nonzero = np.zeros((305, nonzero.shape[0]), dtype = 'int64')\n",
    "    for j in range(305):\n",
    "        for k in range(nonzero.shape[0]):\n",
    "            _nonzero[j][k] = nonzero[k]\n",
    "    subset = np.where(nonzero)[0]\n",
    "    print(a, subset.shape[0], _nonzero)\n",
    "    rsq_cv[i] = cross_val_score(linreg, Xtr[_nonzero], Ytr, cv=kf, scoring='r2')\n",
    "print(rsq_cv)\n",
    "rsq_cv_max = np.max(rsq_cv)\n",
    "alphas_max = alphas_lasso[np.where(rsq_cv == rsq_cv_max)]\n",
    "print(rsq_cv_max)\n",
    "print(alphas_max)\n",
    "plt.plot(alphas_lasso, rsq_cv, 'k', label = 'r2')\n",
    "plt.plot(alphas_max, rsq_cv_max, 'r.',linewidth = 10, label = 'r2_max')\n",
    "plt.legend()\n",
    "plt.xlabel('alpha')\n",
    "plt.ylabel('r2')\n",
    "plt.show()"
   ]
  },
  {
   "cell_type": "markdown",
   "metadata": {
    "id": "_3pz6Eou5wFI"
   },
   "source": [
    "You should see that LASSO+LS with a tuned `alpha` performs similarly to the untuned LASSO from earlier.\n",
    "\n",
    "One reason that tuned LASSO+LS is not much better than untuned LASSO is that LASSO's coefficient shrinkage may actually be helping with this dataset.  Remember that Ridge regression is another method that shrinks coefficients, and it is known to help with correlated features.  The features in this dataset are definitely correlated, so perhaps we should try performing Ridge regression on LASSO-selected features.\n",
    "\n",
    "Before we do that, though, let's plot the RMS values of the biased LASSO coefficients (at the optimal `alpha`), similarly to how you plotted the Ridge coefficients earlier.\n",
    "To do this, you'll first need to re-fit LASSO.\n",
    "\n",
    "In addition, let's also plot the RMS values of the LASSO+LS coefficients for comparison.\n",
    "To do this, you'll need to compute the LS weights on the LASSO-selected features using `linreg.fit`.\n",
    "This will give you only the values of the few nonzero weights selected by LASSO.\n",
    "So, to plot the LASSO+LS coefficients, you'll need to first make an all-zeros array and then insert the LS weights in the locations of the selected features."
   ]
  },
  {
   "cell_type": "code",
   "execution_count": null,
   "metadata": {
    "id": "QJOL0UuN5wFI"
   },
   "outputs": [],
   "source": [
    "# TODO\n",
    "#\n",
    "# fit coefficients using LASSO at best alpha\n",
    "#W_lasso = ...\n",
    "#W_lasso_rms = ...\n",
    "#\n",
    "# fit lasso-selected coefficients using LS linear regression\n",
    "#W_lassols = ...\n",
    "#W_lassols_rms = ...\n",
    "#\n",
    "# plot weights"
   ]
  },
  {
   "cell_type": "markdown",
   "metadata": {
    "id": "k66WzMko5wFI"
   },
   "source": [
    "The LASSO and LASSO+LS weights should be very sparse.\n",
    "The LASSO weights should be shrunk compared to the LASSO+LS weights but have the same support (i.e., the same subset of nonzero indices)"
   ]
  },
  {
   "cell_type": "markdown",
   "metadata": {
    "id": "1f_ECQhw5wFI"
   },
   "source": [
    "##  LASSO Feature Selection + tuned Ridge Regression\n",
    "\n",
    "We will now try to improve upon the previous methods by using LASSO+Ridge instead of LASSO+LS.  At each fixed value of `alpha_lasso` that we try, we will do a grid-search-CV optimization of `alpha_ridge`.\n",
    "\n",
    "Modify your previous LASSO grid-search code so that `cross_val_score(linreg...` is replaced by `gscv.fit(...`, where `gscv = GridSearchCV(ridge...`.  In other words, for each value of `alphas_lasso`, do a grid-search over an `alphas_ridge` grid using `GridSearchCV`, and then extract the results using `gscv.best_score_` and `gscv.best_parameters_['alpha']`.\n",
    "For `alphas_ridge`, I suggest to start with `logspace(0,4,5)`.\n",
    "\n",
    "Plot the resulting R^2 versus `alphas_lasso`.  Iterate on your choice of `alphas_lasso` until R^2 peaks in the middle of your `alphas_lasso` grid and there is enough resolution to identify a good value.\n",
    "\n",
    "Once you have found a good choice for `alphas_lasso`, plot R^2 versus `alphas_ridge` to see if `alphas_ridge` needs adjusting, and adjust it as needed."
   ]
  },
  {
   "cell_type": "code",
   "execution_count": null,
   "metadata": {
    "id": "BPgCFk5w5wFI"
   },
   "outputs": [],
   "source": [
    "# TODO\n"
   ]
  },
  {
   "cell_type": "markdown",
   "metadata": {
    "id": "hWi5E9-G5wFJ"
   },
   "source": [
    "You should see that (tuned) LASSO feature selection followed by tuned Ridge regression outperforms all previous methods: Ridge, LASSO, and LASSO+LS."
   ]
  },
  {
   "cell_type": "markdown",
   "metadata": {
    "id": "Jc90vWHv5wFJ"
   },
   "source": [
    "## More fun\n",
    "\n",
    "If you want to dive deeper into this application:\n",
    "* Install the [MNE python package](https://martinos.org/mne/stable/index.html).  This is an amazing package with many tools for processing EEG data.\n",
    "* In particular, you can use the above to visualize where in the brain the currents are active.\n",
    "* We could also use a more sophisticated regularization technique called Group LASSO, that encourages *entire rows* of the `W` matrix to be zero-valued.  This is appropriate in this application because, if the current is zero for one time, it is likely to be zero for all time.\n",
    "* You can even use the recovered current patterns to make predictions about what the patient is seeing or hearing or thinking!  It sounds like science-fiction, but it has been demonstrated to work to a certain extent!"
   ]
  },
  {
   "cell_type": "code",
   "execution_count": null,
   "metadata": {
    "id": "yxT8W0X75wFJ"
   },
   "outputs": [],
   "source": []
  }
 ],
 "metadata": {
  "colab": {
   "provenance": []
  },
  "kernelspec": {
   "display_name": "Python 3 (ipykernel)",
   "language": "python",
   "name": "python3"
  },
  "language_info": {
   "codemirror_mode": {
    "name": "ipython",
    "version": 3
   },
   "file_extension": ".py",
   "mimetype": "text/x-python",
   "name": "python",
   "nbconvert_exporter": "python",
   "pygments_lexer": "ipython3",
   "version": "3.11.4"
  },
  "varInspector": {
   "cols": {
    "lenName": 16,
    "lenType": 16,
    "lenVar": 40
   },
   "kernels_config": {
    "python": {
     "delete_cmd_postfix": "",
     "delete_cmd_prefix": "del ",
     "library": "var_list.py",
     "varRefreshCmd": "print(var_dic_list())"
    },
    "r": {
     "delete_cmd_postfix": ") ",
     "delete_cmd_prefix": "rm(",
     "library": "var_list.r",
     "varRefreshCmd": "cat(var_dic_list()) "
    }
   },
   "types_to_exclude": [
    "module",
    "function",
    "builtin_function_or_method",
    "instance",
    "_Feature"
   ],
   "window_display": false
  }
 },
 "nbformat": 4,
 "nbformat_minor": 1
}
