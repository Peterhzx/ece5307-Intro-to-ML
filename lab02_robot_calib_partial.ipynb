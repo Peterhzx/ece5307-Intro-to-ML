{
 "cells": [
  {
   "cell_type": "markdown",
   "metadata": {
    "id": "2BeVXVfv2uQs"
   },
   "source": [
    "# Lab: Multiple Linear Regression for Robot Calibration\n",
    "\n",
    "In this lab, we will illustrate the use of multiple linear regression for calibrating robot control.  In addition to reviewing the concepts in the the demo for this unit, you will see how to use multiple linear regression for time series data -- an important concept in dynamical systems such as robotics.\n",
    "\n",
    "The robot data for the lab is taken generously from the TU Dortmund's [Multiple Link Robot Arms Project](https://rst.etit.tu-dortmund.de/en/forschung/robotik/leichtbau/details-tudor/).  As part of the project, they have created an excellent public dataset: [MERIt](https://rst.etit.tu-dortmund.de/en/forschung/robotik/leichtbau/details-tudor/#c11560) -- A Multi-Elastic-Link Robot Identification Dataset that can be used for understanding robot dynamics.  The data is from a three link robot:\n",
    "\n",
    "<img src=\"https://rst.etit.tu-dortmund.de/storages/rst-etit/r/Media_Forschung/Robotik/Leichtbau/TUDORBild.png\" height=\"200\" width=\"200\">\n",
    "\n",
    "\n",
    "We will focus on predicting the current draw into one of the joints as a function of the robot motion.  Such models are essential in predicting the overall robot power consumption.  Several other models could also be used."
   ]
  },
  {
   "cell_type": "markdown",
   "metadata": {
    "id": "Ig3XAaOj2uQu"
   },
   "source": [
    "## Load and Visualize the Data\n",
    "First, import the modules we will need."
   ]
  },
  {
   "cell_type": "code",
   "execution_count": 1,
   "metadata": {
    "executionInfo": {
     "elapsed": 398,
     "status": "ok",
     "timestamp": 1692902602382,
     "user": {
      "displayName": "Srijith Nair",
      "userId": "06114407022496098499"
     },
     "user_tz": 240
    },
    "id": "LdCy58-t2uQv"
   },
   "outputs": [],
   "source": [
    "import pandas as pd\n",
    "import numpy as np\n",
    "import matplotlib\n",
    "import matplotlib.pyplot as plt\n",
    "%matplotlib inline"
   ]
  },
  {
   "cell_type": "code",
   "execution_count": 2,
   "metadata": {
    "colab": {
     "base_uri": "https://localhost:8080/"
    },
    "executionInfo": {
     "elapsed": 21136,
     "status": "ok",
     "timestamp": 1692902822966,
     "user": {
      "displayName": "Srijith Nair",
      "userId": "06114407022496098499"
     },
     "user_tz": 240
    },
    "id": "yYC324a-247v",
    "outputId": "ff63c59e-f9ca-4584-9a53-391be23787d4"
   },
   "outputs": [
    {
     "ename": "ModuleNotFoundError",
     "evalue": "No module named 'google'",
     "output_type": "error",
     "traceback": [
      "\u001b[1;31m---------------------------------------------------------------------------\u001b[0m",
      "\u001b[1;31mModuleNotFoundError\u001b[0m                       Traceback (most recent call last)",
      "Cell \u001b[1;32mIn[2], line 1\u001b[0m\n\u001b[1;32m----> 1\u001b[0m \u001b[38;5;28;01mfrom\u001b[39;00m \u001b[38;5;21;01mgoogle\u001b[39;00m\u001b[38;5;21;01m.\u001b[39;00m\u001b[38;5;21;01mcolab\u001b[39;00m \u001b[38;5;28;01mimport\u001b[39;00m drive\n\u001b[0;32m      2\u001b[0m drive\u001b[38;5;241m.\u001b[39mmount(\u001b[38;5;124m'\u001b[39m\u001b[38;5;124m/content/drive\u001b[39m\u001b[38;5;124m'\u001b[39m)\n\u001b[0;32m      3\u001b[0m \u001b[38;5;28mdir\u001b[39m \u001b[38;5;241m=\u001b[39m \u001b[38;5;124m\"\u001b[39m\u001b[38;5;124mece5307au23/develop/unit02_mult_lin_reg\u001b[39m\u001b[38;5;124m\"\u001b[39m\n",
      "\u001b[1;31mModuleNotFoundError\u001b[0m: No module named 'google'"
     ]
    }
   ],
   "source": [
    "from google.colab import drive\n",
    "drive.mount('/content/drive')\n",
    "dir = \"ece5307au23/develop/unit02_mult_lin_reg\"\n",
    "computer = \"My Laptop\"\n",
    "%cd \"drive/Othercomputers/{computer}/{dir}\"\n",
    "!ls"
   ]
  },
  {
   "cell_type": "markdown",
   "metadata": {
    "id": "OnB7jC-A2uQx"
   },
   "source": [
    "The full MERIt dataset can be obtained from the [MERIt site](https://rst.etit.tu-dortmund.de/en/forschung/robotik/leichtbau/details-tudor/#c11560).  But this dataset is large.  Included in this repository are two of the ten experiments.  Each experiments corresonds to 80 seconds of recorded motion.  We will use the following files:\n",
    "* [exp1.csv](./exp1.csv) for training\n",
    "* [exp2.csv](./exp2.csv) for test\n",
    "\n",
    "Below, I have supplied the column headers in the `names` array.  Use the `pd.read_csv` command to load the training data.  Use the `index_col` option to specify that column 0 (the one with time) is the *index* column.  You can review [simple linear regression demo](./auto_mpg.ipynb) for examples of using the `pd.read_csv` command."
   ]
  },
  {
   "cell_type": "code",
   "execution_count": 2,
   "metadata": {
    "executionInfo": {
     "elapsed": 164,
     "status": "ok",
     "timestamp": 1692903538436,
     "user": {
      "displayName": "Srijith Nair",
      "userId": "06114407022496098499"
     },
     "user_tz": 240
    },
    "id": "LIsLAaFw2uQy"
   },
   "outputs": [],
   "source": [
    "names =[\n",
    "    't',                                  # Time (secs)\n",
    "    'q1', 'q2', 'q3',                     # Joint angle   (rads)\n",
    "    'dq1', 'dq2', 'dq3',                  # Joint velocity (rads/sec)\n",
    "    'I1', 'I2', 'I3',                     # Motor current (A)\n",
    "    'eps21', 'eps22', 'eps31', 'eps32',   # Strain gauge measurements ($\\mu$m /m )\n",
    "    'ddq1', 'ddq2', 'ddq3'                # Joint accelerations (rad/sec^2)\n",
    "]\n",
    "# TODO\n",
    "df = pd.read_csv('exp1.csv', header=None, sep=',', names=names)"
   ]
  },
  {
   "cell_type": "markdown",
   "metadata": {
    "id": "GCZBxapU2uQy"
   },
   "source": [
    "Print the first six lines of the pandas dataframe and manually check that they match the first rows of the csv file."
   ]
  },
  {
   "cell_type": "code",
   "execution_count": 3,
   "metadata": {
    "colab": {
     "base_uri": "https://localhost:8080/"
    },
    "executionInfo": {
     "elapsed": 185,
     "status": "ok",
     "timestamp": 1692903545304,
     "user": {
      "displayName": "Srijith Nair",
      "userId": "06114407022496098499"
     },
     "user_tz": 240
    },
    "id": "_aWHmo7M2uQz",
    "outputId": "05db25a2-a961-4e3b-fb36-44ae6112a0b6"
   },
   "outputs": [
    {
     "name": "stdout",
     "output_type": "stream",
     "text": [
      "      t        q1      q2      q3           dq1            dq2           dq3  \\\n",
      "0  0.00 -0.000007  2.4958 -1.1345 -7.882100e-21 -4.940656e-321  3.913100e-29   \n",
      "1  0.01 -0.000007  2.4958 -1.1345 -2.258200e-21 -4.940656e-321  2.626200e-31   \n",
      "2  0.02 -0.000007  2.4958 -1.1345 -6.469800e-22 -4.940656e-321  1.762500e-33   \n",
      "3  0.03 -0.000007  2.4958 -1.1345 -1.853600e-22 -4.940656e-321  1.182800e-35   \n",
      "4  0.04 -0.000007  2.4958 -1.1345 -5.310600e-23 -4.940656e-321 -5.270900e-03   \n",
      "5  0.05 -0.000007  2.4958 -1.1345 -1.521500e-23 -4.940656e-321  3.252600e-04   \n",
      "\n",
      "         I1       I2       I3   eps21   eps22   eps31    eps32          ddq1  \\\n",
      "0 -0.081623 -0.40812 -0.30609 -269.25 -113.20  3.5918  1.57860 -9.904900e-19   \n",
      "1 -0.037411 -0.37241 -0.26698 -270.91 -116.05  1.4585 -1.73980  4.248100e-19   \n",
      "2 -0.066319 -0.40302 -0.31459 -269.25 -112.97  3.5918  0.86753  3.233800e-19   \n",
      "3 -0.068020 -0.43703 -0.28398 -269.97 -114.39  1.6956 -0.08059  1.500500e-19   \n",
      "4 -0.052715 -0.40472 -0.30779 -269.97 -114.15  3.1177  0.86753  5.932400e-20   \n",
      "5 -0.088425 -0.42342 -0.29589 -269.25 -114.15  2.4066 -0.08059  2.164600e-20   \n",
      "\n",
      "            ddq2          ddq3  \n",
      "0 -6.210306e-319  4.917400e-27  \n",
      "1 -1.766878e-319 -1.381100e-27  \n",
      "2 -4.990557e-320 -4.117300e-28  \n",
      "3 -1.394253e-320 -1.173100e-28  \n",
      "4 -3.581976e-321 -3.770800e-01  \n",
      "5 -1.141292e-321  2.930300e-01  \n"
     ]
    }
   ],
   "source": [
    "# TODO\n",
    "print(df.head(6))"
   ]
  },
  {
   "cell_type": "markdown",
   "metadata": {
    "id": "tC8iPvul2uQ0"
   },
   "source": [
    "From the dataframe `df`, extract the time indices into a vector `t`. Also extract `I2`, the current into the second joint, into a vector `y`.  Finally plot `y` vs. `t`.   Label the axes with the units.  \n",
    "\n",
    "Note that the values in the index column are extracted using `df.index` rather than via the column name, such as `df['t']`."
   ]
  },
  {
   "cell_type": "code",
   "execution_count": 4,
   "metadata": {
    "id": "ZVu6cb7Q2uQ0"
   },
   "outputs": [
    {
     "data": {
      "text/plain": [
       "[<matplotlib.lines.Line2D at 0x1fc28e06c50>]"
      ]
     },
     "execution_count": 4,
     "metadata": {},
     "output_type": "execute_result"
    },
    {
     "data": {
      "image/png": "[encoded data removed]",
      "text/plain": [
       "<Figure size 640x480 with 1 Axes>"
      ]
     },
     "metadata": {},
     "output_type": "display_data"
    }
   ],
   "source": [
    "y = df['I2']\n",
    "t = df['t']\n",
    "plt.xlabel('t')\n",
    "plt.ylabel('I2')\n",
    "plt.plot(t, y, 'r-')"
   ]
  },
  {
   "cell_type": "markdown",
   "metadata": {
    "id": "qZNOuuVw2uQ2"
   },
   "source": [
    "Use all the samples from the experiment 1 dataset to create the training data:\n",
    "* `ytrain`:  A vector of all the samples from the `I2` column\n",
    "* `Xtrain`:  A matrix of the data with the columns:  `['q2','dq2','eps21', 'eps22', 'eps31', 'eps32','ddq2']`"
   ]
  },
  {
   "cell_type": "code",
   "execution_count": 5,
   "metadata": {
    "id": "DCtXCsn42uQ2"
   },
   "outputs": [
    {
     "data": {
      "text/html": [
       "<div>\n",
       "<style scoped>\n",
       "    .dataframe tbody tr th:only-of-type {\n",
       "        vertical-align: middle;\n",
       "    }\n",
       "\n",
       "    .dataframe tbody tr th {\n",
       "        vertical-align: top;\n",
       "    }\n",
       "\n",
       "    .dataframe thead th {\n",
       "        text-align: right;\n",
       "    }\n",
       "</style>\n",
       "<table border=\"1\" class=\"dataframe\">\n",
       "  <thead>\n",
       "    <tr style=\"text-align: right;\">\n",
       "      <th></th>\n",
       "      <th>q2</th>\n",
       "      <th>dq2</th>\n",
       "      <th>eps21</th>\n",
       "      <th>eps22</th>\n",
       "      <th>eps31</th>\n",
       "      <th>eps32</th>\n",
       "      <th>ddq2</th>\n",
       "    </tr>\n",
       "  </thead>\n",
       "  <tbody>\n",
       "    <tr>\n",
       "      <th>0</th>\n",
       "      <td>2.4958</td>\n",
       "      <td>-4.940656e-321</td>\n",
       "      <td>-269.25</td>\n",
       "      <td>-113.200</td>\n",
       "      <td>3.5918</td>\n",
       "      <td>1.57860</td>\n",
       "      <td>-6.210306e-319</td>\n",
       "    </tr>\n",
       "    <tr>\n",
       "      <th>1</th>\n",
       "      <td>2.4958</td>\n",
       "      <td>-4.940656e-321</td>\n",
       "      <td>-270.91</td>\n",
       "      <td>-116.050</td>\n",
       "      <td>1.4585</td>\n",
       "      <td>-1.73980</td>\n",
       "      <td>-1.766878e-319</td>\n",
       "    </tr>\n",
       "    <tr>\n",
       "      <th>2</th>\n",
       "      <td>2.4958</td>\n",
       "      <td>-4.940656e-321</td>\n",
       "      <td>-269.25</td>\n",
       "      <td>-112.970</td>\n",
       "      <td>3.5918</td>\n",
       "      <td>0.86753</td>\n",
       "      <td>-4.990557e-320</td>\n",
       "    </tr>\n",
       "    <tr>\n",
       "      <th>3</th>\n",
       "      <td>2.4958</td>\n",
       "      <td>-4.940656e-321</td>\n",
       "      <td>-269.97</td>\n",
       "      <td>-114.390</td>\n",
       "      <td>1.6956</td>\n",
       "      <td>-0.08059</td>\n",
       "      <td>-1.394253e-320</td>\n",
       "    </tr>\n",
       "    <tr>\n",
       "      <th>4</th>\n",
       "      <td>2.4958</td>\n",
       "      <td>-4.940656e-321</td>\n",
       "      <td>-269.97</td>\n",
       "      <td>-114.150</td>\n",
       "      <td>3.1177</td>\n",
       "      <td>0.86753</td>\n",
       "      <td>-3.581976e-321</td>\n",
       "    </tr>\n",
       "    <tr>\n",
       "      <th>...</th>\n",
       "      <td>...</td>\n",
       "      <td>...</td>\n",
       "      <td>...</td>\n",
       "      <td>...</td>\n",
       "      <td>...</td>\n",
       "      <td>...</td>\n",
       "      <td>...</td>\n",
       "    </tr>\n",
       "    <tr>\n",
       "      <th>7995</th>\n",
       "      <td>1.9441</td>\n",
       "      <td>1.092700e+00</td>\n",
       "      <td>-110.44</td>\n",
       "      <td>-40.434</td>\n",
       "      <td>-2.3340</td>\n",
       "      <td>3.71190</td>\n",
       "      <td>3.884400e-01</td>\n",
       "    </tr>\n",
       "    <tr>\n",
       "      <th>7996</th>\n",
       "      <td>1.9550</td>\n",
       "      <td>1.081500e+00</td>\n",
       "      <td>-114.71</td>\n",
       "      <td>-41.619</td>\n",
       "      <td>-2.0969</td>\n",
       "      <td>1.10460</td>\n",
       "      <td>-6.908700e-01</td>\n",
       "    </tr>\n",
       "    <tr>\n",
       "      <th>7997</th>\n",
       "      <td>1.9659</td>\n",
       "      <td>1.095700e+00</td>\n",
       "      <td>-118.03</td>\n",
       "      <td>-41.856</td>\n",
       "      <td>-2.0969</td>\n",
       "      <td>3.71190</td>\n",
       "      <td>8.226400e-01</td>\n",
       "    </tr>\n",
       "    <tr>\n",
       "      <th>7998</th>\n",
       "      <td>1.9768</td>\n",
       "      <td>1.091300e+00</td>\n",
       "      <td>-133.20</td>\n",
       "      <td>-57.737</td>\n",
       "      <td>-12.5260</td>\n",
       "      <td>-5.76930</td>\n",
       "      <td>-8.205000e-02</td>\n",
       "    </tr>\n",
       "    <tr>\n",
       "      <th>7999</th>\n",
       "      <td>1.9877</td>\n",
       "      <td>1.089900e+00</td>\n",
       "      <td>-135.57</td>\n",
       "      <td>-56.078</td>\n",
       "      <td>-11.1040</td>\n",
       "      <td>-1.50280</td>\n",
       "      <td>-1.255900e-01</td>\n",
       "    </tr>\n",
       "  </tbody>\n",
       "</table>\n",
       "<p>8000 rows × 7 columns</p>\n",
       "</div>"
      ],
      "text/plain": [
       "          q2            dq2   eps21    eps22    eps31    eps32           ddq2\n",
       "0     2.4958 -4.940656e-321 -269.25 -113.200   3.5918  1.57860 -6.210306e-319\n",
       "1     2.4958 -4.940656e-321 -270.91 -116.050   1.4585 -1.73980 -1.766878e-319\n",
       "2     2.4958 -4.940656e-321 -269.25 -112.970   3.5918  0.86753 -4.990557e-320\n",
       "3     2.4958 -4.940656e-321 -269.97 -114.390   1.6956 -0.08059 -1.394253e-320\n",
       "4     2.4958 -4.940656e-321 -269.97 -114.150   3.1177  0.86753 -3.581976e-321\n",
       "...      ...            ...     ...      ...      ...      ...            ...\n",
       "7995  1.9441   1.092700e+00 -110.44  -40.434  -2.3340  3.71190   3.884400e-01\n",
       "7996  1.9550   1.081500e+00 -114.71  -41.619  -2.0969  1.10460  -6.908700e-01\n",
       "7997  1.9659   1.095700e+00 -118.03  -41.856  -2.0969  3.71190   8.226400e-01\n",
       "7998  1.9768   1.091300e+00 -133.20  -57.737 -12.5260 -5.76930  -8.205000e-02\n",
       "7999  1.9877   1.089900e+00 -135.57  -56.078 -11.1040 -1.50280  -1.255900e-01\n",
       "\n",
       "[8000 rows x 7 columns]"
      ]
     },
     "execution_count": 5,
     "metadata": {},
     "output_type": "execute_result"
    }
   ],
   "source": [
    "ytrain = pd.DataFrame(data = df['I2'])\n",
    "Xtrain = pd.DataFrame(data = df['q2'])\n",
    "Xtrain['dq2'] = df['dq2']\n",
    "Xtrain['eps21'] = df['eps21']\n",
    "Xtrain['eps22'] = df['eps22']\n",
    "Xtrain['eps31'] = df['eps31']\n",
    "Xtrain['eps32'] = df['eps32']\n",
    "Xtrain['ddq2'] = df['ddq2']\n",
    "Xtrain"
   ]
  },
  {
   "cell_type": "markdown",
   "metadata": {
    "id": "OOu-6YG52uQ3"
   },
   "source": [
    "## Fit a Linear Model\n",
    "Use the `sklearn.linear_model` module to create a `LinearRegression` class `regr`."
   ]
  },
  {
   "cell_type": "code",
   "execution_count": 6,
   "metadata": {
    "id": "YrT-okq92uQ3"
   },
   "outputs": [],
   "source": [
    "from sklearn import linear_model\n",
    "\n",
    "regr = linear_model.LinearRegression()"
   ]
  },
  {
   "cell_type": "markdown",
   "metadata": {
    "id": "K0DZR4Gv2uQ3"
   },
   "source": [
    "Train the model on the training data."
   ]
  },
  {
   "cell_type": "code",
   "execution_count": 7,
   "metadata": {
    "id": "Qcuha6_l2uQ4"
   },
   "outputs": [
    {
     "data": {
      "text/plain": [
       "array([[ 0.06255018,  0.20584896,  0.00118784,  0.00044457, -0.0031362 ,\n",
       "         0.00603298,  0.05487097]])"
      ]
     },
     "execution_count": 7,
     "metadata": {},
     "output_type": "execute_result"
    }
   ],
   "source": [
    "regr.fit(Xtrain, ytrain)\n",
    "regr.coef_ "
   ]
  },
  {
   "cell_type": "markdown",
   "metadata": {
    "id": "FlhYzdyp2uQ4"
   },
   "source": [
    "Using the trained model, compute, `ytrain_pred`, the predicted current.  Plot `ytrain_pred` vs. time `t`.  On the same plot, plot the actual current `ytrain` vs. time `t`.  Create a legend for the plot."
   ]
  },
  {
   "cell_type": "code",
   "execution_count": 8,
   "metadata": {
    "id": "e1GKAtbQ2uQ4"
   },
   "outputs": [
    {
     "data": {
      "image/png": "[encoded data removed]",
      "text/plain": [
       "<Figure size 640x480 with 1 Axes>"
      ]
     },
     "metadata": {},
     "output_type": "display_data"
    }
   ],
   "source": [
    "ytrain_pred = regr.predict(Xtrain)\n",
    "plt.xlabel('t')\n",
    "plt.ylabel('I2')\n",
    "plt.plot(t, ytrain_pred, 'r--', label = 'predicted current')\n",
    "plt.plot(t, ytrain, 'b-', label = 'actual current')\n",
    "leg=plt.legend();\n",
    "plt.show()"
   ]
  },
  {
   "cell_type": "markdown",
   "metadata": {
    "id": "X8kgdNUK2uQ5"
   },
   "source": [
    "Measure the R^2 coefficient-of-determination on the training data"
   ]
  },
  {
   "cell_type": "code",
   "execution_count": 9,
   "metadata": {
    "id": "-JOLps8Q2uQ5"
   },
   "outputs": [
    {
     "data": {
      "text/plain": [
       "0.9041673613876681"
      ]
     },
     "execution_count": 9,
     "metadata": {},
     "output_type": "execute_result"
    }
   ],
   "source": [
    "from sklearn.metrics import r2_score\n",
    "r2_score(ytrain,ytrain_pred)"
   ]
  },
  {
   "cell_type": "markdown",
   "metadata": {
    "id": "l9Dj5T2R2uQ5"
   },
   "source": [
    "## Measure the Fit on an Independent Dataset\n",
    "\n",
    "Up to now, we have only tested the model on the same data on which it was trained.  In general, we need to test the model on independent data not used for training.  For this purpose, load the test data in `exp2.csv`.  Compute the regression predicted values on this data and plot the predicted and actual values over time."
   ]
  },
  {
   "cell_type": "code",
   "execution_count": 10,
   "metadata": {
    "id": "j2wClvoJ2uQ5"
   },
   "outputs": [
    {
     "data": {
      "text/html": [
       "<div>\n",
       "<style scoped>\n",
       "    .dataframe tbody tr th:only-of-type {\n",
       "        vertical-align: middle;\n",
       "    }\n",
       "\n",
       "    .dataframe tbody tr th {\n",
       "        vertical-align: top;\n",
       "    }\n",
       "\n",
       "    .dataframe thead th {\n",
       "        text-align: right;\n",
       "    }\n",
       "</style>\n",
       "<table border=\"1\" class=\"dataframe\">\n",
       "  <thead>\n",
       "    <tr style=\"text-align: right;\">\n",
       "      <th></th>\n",
       "      <th>q2</th>\n",
       "      <th>dq2</th>\n",
       "      <th>eps21</th>\n",
       "      <th>eps22</th>\n",
       "      <th>eps31</th>\n",
       "      <th>eps32</th>\n",
       "      <th>ddq2</th>\n",
       "    </tr>\n",
       "  </thead>\n",
       "  <tbody>\n",
       "    <tr>\n",
       "      <th>0</th>\n",
       "      <td>1.9024</td>\n",
       "      <td>4.940656e-321</td>\n",
       "      <td>-130.83</td>\n",
       "      <td>-41.856</td>\n",
       "      <td>-6.3635</td>\n",
       "      <td>5.13410</td>\n",
       "      <td>6.210306e-319</td>\n",
       "    </tr>\n",
       "    <tr>\n",
       "      <th>1</th>\n",
       "      <td>1.9024</td>\n",
       "      <td>4.940656e-321</td>\n",
       "      <td>-138.18</td>\n",
       "      <td>-51.100</td>\n",
       "      <td>-14.6590</td>\n",
       "      <td>-5.05820</td>\n",
       "      <td>1.766878e-319</td>\n",
       "    </tr>\n",
       "    <tr>\n",
       "      <th>2</th>\n",
       "      <td>1.9024</td>\n",
       "      <td>4.940656e-321</td>\n",
       "      <td>-139.36</td>\n",
       "      <td>-51.812</td>\n",
       "      <td>-14.6590</td>\n",
       "      <td>-5.29520</td>\n",
       "      <td>4.990557e-320</td>\n",
       "    </tr>\n",
       "    <tr>\n",
       "      <th>3</th>\n",
       "      <td>1.9024</td>\n",
       "      <td>4.940656e-321</td>\n",
       "      <td>-135.57</td>\n",
       "      <td>-48.019</td>\n",
       "      <td>-11.3410</td>\n",
       "      <td>-0.79168</td>\n",
       "      <td>1.394253e-320</td>\n",
       "    </tr>\n",
       "    <tr>\n",
       "      <th>4</th>\n",
       "      <td>1.9024</td>\n",
       "      <td>4.940656e-321</td>\n",
       "      <td>-135.81</td>\n",
       "      <td>-49.204</td>\n",
       "      <td>-12.0520</td>\n",
       "      <td>-2.21390</td>\n",
       "      <td>3.581976e-321</td>\n",
       "    </tr>\n",
       "    <tr>\n",
       "      <th>...</th>\n",
       "      <td>...</td>\n",
       "      <td>...</td>\n",
       "      <td>...</td>\n",
       "      <td>...</td>\n",
       "      <td>...</td>\n",
       "      <td>...</td>\n",
       "      <td>...</td>\n",
       "    </tr>\n",
       "    <tr>\n",
       "      <th>7995</th>\n",
       "      <td>1.9375</td>\n",
       "      <td>-1.869700e-39</td>\n",
       "      <td>-173.26</td>\n",
       "      <td>-67.456</td>\n",
       "      <td>-15.3710</td>\n",
       "      <td>-0.79168</td>\n",
       "      <td>3.820300e-11</td>\n",
       "    </tr>\n",
       "    <tr>\n",
       "      <th>7996</th>\n",
       "      <td>1.9375</td>\n",
       "      <td>-1.254800e-41</td>\n",
       "      <td>-168.75</td>\n",
       "      <td>-67.218</td>\n",
       "      <td>-17.9780</td>\n",
       "      <td>-2.45090</td>\n",
       "      <td>1.087300e-11</td>\n",
       "    </tr>\n",
       "    <tr>\n",
       "      <th>7997</th>\n",
       "      <td>1.9375</td>\n",
       "      <td>-8.421000e-44</td>\n",
       "      <td>-163.78</td>\n",
       "      <td>-66.981</td>\n",
       "      <td>-20.1110</td>\n",
       "      <td>-2.92490</td>\n",
       "      <td>3.094600e-12</td>\n",
       "    </tr>\n",
       "    <tr>\n",
       "      <th>7998</th>\n",
       "      <td>1.9375</td>\n",
       "      <td>-5.651500e-46</td>\n",
       "      <td>-161.88</td>\n",
       "      <td>-71.011</td>\n",
       "      <td>-27.4590</td>\n",
       "      <td>-10.03600</td>\n",
       "      <td>8.807400e-13</td>\n",
       "    </tr>\n",
       "    <tr>\n",
       "      <th>7999</th>\n",
       "      <td>1.9375</td>\n",
       "      <td>-3.792800e-48</td>\n",
       "      <td>-155.48</td>\n",
       "      <td>-66.981</td>\n",
       "      <td>-24.8520</td>\n",
       "      <td>-6.24340</td>\n",
       "      <td>2.506700e-13</td>\n",
       "    </tr>\n",
       "  </tbody>\n",
       "</table>\n",
       "<p>8000 rows × 7 columns</p>\n",
       "</div>"
      ],
      "text/plain": [
       "          q2            dq2   eps21   eps22    eps31     eps32           ddq2\n",
       "0     1.9024  4.940656e-321 -130.83 -41.856  -6.3635   5.13410  6.210306e-319\n",
       "1     1.9024  4.940656e-321 -138.18 -51.100 -14.6590  -5.05820  1.766878e-319\n",
       "2     1.9024  4.940656e-321 -139.36 -51.812 -14.6590  -5.29520  4.990557e-320\n",
       "3     1.9024  4.940656e-321 -135.57 -48.019 -11.3410  -0.79168  1.394253e-320\n",
       "4     1.9024  4.940656e-321 -135.81 -49.204 -12.0520  -2.21390  3.581976e-321\n",
       "...      ...            ...     ...     ...      ...       ...            ...\n",
       "7995  1.9375  -1.869700e-39 -173.26 -67.456 -15.3710  -0.79168   3.820300e-11\n",
       "7996  1.9375  -1.254800e-41 -168.75 -67.218 -17.9780  -2.45090   1.087300e-11\n",
       "7997  1.9375  -8.421000e-44 -163.78 -66.981 -20.1110  -2.92490   3.094600e-12\n",
       "7998  1.9375  -5.651500e-46 -161.88 -71.011 -27.4590 -10.03600   8.807400e-13\n",
       "7999  1.9375  -3.792800e-48 -155.48 -66.981 -24.8520  -6.24340   2.506700e-13\n",
       "\n",
       "[8000 rows x 7 columns]"
      ]
     },
     "execution_count": 10,
     "metadata": {},
     "output_type": "execute_result"
    }
   ],
   "source": [
    "df2 = pd.read_csv('exp2.csv', header=None, sep=',', names=names)\n",
    "ytest = pd.DataFrame(data = df2['I2'])\n",
    "Xtest = pd.DataFrame(data = df2['q2'])\n",
    "Xtest['dq2'] = df2['dq2']\n",
    "Xtest['eps21'] = df2['eps21']\n",
    "Xtest['eps22'] = df2['eps22']\n",
    "Xtest['eps31'] = df2['eps31']\n",
    "Xtest['eps32'] = df2['eps32']\n",
    "Xtest['ddq2'] = df2['ddq2']\n",
    "Xtest"
   ]
  },
  {
   "cell_type": "code",
   "execution_count": 11,
   "metadata": {
    "scrolled": false
   },
   "outputs": [
    {
     "data": {
      "image/png": "[encoded data removed]",
      "text/plain": [
       "<Figure size 640x480 with 1 Axes>"
      ]
     },
     "metadata": {},
     "output_type": "display_data"
    }
   ],
   "source": [
    "ytest_pred = regr.predict(Xtest)\n",
    "plt.xlabel('t')\n",
    "plt.ylabel('I2')\n",
    "plt.plot(t, ytest_pred, 'r--', label = 'predicted current')\n",
    "plt.plot(t, ytest, 'b-', label = 'actual current')\n",
    "leg=plt.legend();\n",
    "plt.show()"
   ]
  },
  {
   "cell_type": "markdown",
   "metadata": {
    "id": "RfTu_a_G2uQ6"
   },
   "source": [
    "Measure the R^2 coefficient-of-determination on the test data"
   ]
  },
  {
   "cell_type": "code",
   "execution_count": 12,
   "metadata": {
    "id": "BMzEdf952uQ6"
   },
   "outputs": [
    {
     "data": {
      "text/plain": [
       "0.8732195119523755"
      ]
     },
     "execution_count": 12,
     "metadata": {},
     "output_type": "execute_result"
    }
   ],
   "source": [
    "from sklearn.metrics import r2_score\n",
    "r2_score(ytest,ytest_pred)"
   ]
  },
  {
   "cell_type": "code",
   "execution_count": null,
   "metadata": {
    "id": "wjF9-eSJ2uQ6"
   },
   "outputs": [],
   "source": []
  }
 ],
 "metadata": {
  "anaconda-cloud": {},
  "colab": {
   "provenance": []
  },
  "kernelspec": {
   "display_name": "Python 3 (ipykernel)",
   "language": "python",
   "name": "python3"
  },
  "language_info": {
   "codemirror_mode": {
    "name": "ipython",
    "version": 3
   },
   "file_extension": ".py",
   "mimetype": "text/x-python",
   "name": "python",
   "nbconvert_exporter": "python",
   "pygments_lexer": "ipython3",
   "version": "3.11.4"
  },
  "varInspector": {
   "cols": {
    "lenName": 16,
    "lenType": 16,
    "lenVar": 40
   },
   "kernels_config": {
    "python": {
     "delete_cmd_postfix": "",
     "delete_cmd_prefix": "del ",
     "library": "var_list.py",
     "varRefreshCmd": "print(var_dic_list())"
    },
    "r": {
     "delete_cmd_postfix": ") ",
     "delete_cmd_prefix": "rm(",
     "library": "var_list.r",
     "varRefreshCmd": "cat(var_dic_list()) "
    }
   },
   "types_to_exclude": [
    "module",
    "function",
    "builtin_function_or_method",
    "instance",
    "_Feature"
   ],
   "window_display": false
  }
 },
 "nbformat": 4,
 "nbformat_minor": 1
}
